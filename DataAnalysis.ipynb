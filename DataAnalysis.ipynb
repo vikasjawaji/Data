{
 "cells": [
  {
   "cell_type": "markdown",
   "id": "b4a250f0",
   "metadata": {},
   "source": [
    "Importing libraries"
   ]
  },
  {
   "cell_type": "code",
   "execution_count": null,
   "id": "3fdbbdf0",
   "metadata": {},
   "outputs": [],
   "source": [
    "import numpy as np\n",
    "import pandas as pd\n",
    "import matplotlib.pyplot as pp\n",
    "import seaborn"
   ]
  },
  {
   "cell_type": "code",
   "execution_count": 2,
   "id": "539008f6",
   "metadata": {},
   "outputs": [],
   "source": [
    "matplotlib inline\n"
   ]
  },
  {
   "cell_type": "markdown",
   "id": "a13263e8",
   "metadata": {},
   "source": [
    "extracting zip files"
   ]
  },
  {
   "cell_type": "code",
   "execution_count": 3,
   "id": "04335683",
   "metadata": {},
   "outputs": [],
   "source": [
    "import zipfile\n",
    "zipfile.ZipFile('names.zip').extractall('.')"
   ]
  },
  {
   "cell_type": "markdown",
   "id": "115c1777",
   "metadata": {},
   "source": [
    "Accessing file content\n"
   ]
  },
  {
   "cell_type": "code",
   "execution_count": 15,
   "id": "4b605576",
   "metadata": {},
   "outputs": [
    {
     "data": {
      "text/plain": [
       "['Isabella,F,22925\\n',\n",
       " 'Sophia,F,20648\\n',\n",
       " 'Emma,F,17354\\n',\n",
       " 'Olivia,F,17030\\n',\n",
       " 'Ava,F,15436\\n']"
      ]
     },
     "execution_count": 15,
     "metadata": {},
     "output_type": "execute_result"
    }
   ],
   "source": [
    "open('yob2010.txt','r').readlines()[0:5]"
   ]
  },
  {
   "cell_type": "code",
   "execution_count": 22,
   "id": "d22c8694",
   "metadata": {},
   "outputs": [],
   "source": [
    "column_names=['Name','Sex','Babies']\n",
    "df=pd.read_csv('yob2010.txt',names=column_names)"
   ]
  },
  {
   "cell_type": "code",
   "execution_count": 23,
   "id": "52c71f1d",
   "metadata": {},
   "outputs": [
    {
     "data": {
      "text/html": [
       "<div>\n",
       "<style scoped>\n",
       "    .dataframe tbody tr th:only-of-type {\n",
       "        vertical-align: middle;\n",
       "    }\n",
       "\n",
       "    .dataframe tbody tr th {\n",
       "        vertical-align: top;\n",
       "    }\n",
       "\n",
       "    .dataframe thead th {\n",
       "        text-align: right;\n",
       "    }\n",
       "</style>\n",
       "<table border=\"1\" class=\"dataframe\">\n",
       "  <thead>\n",
       "    <tr style=\"text-align: right;\">\n",
       "      <th></th>\n",
       "      <th>Name</th>\n",
       "      <th>Sex</th>\n",
       "      <th>Babies</th>\n",
       "    </tr>\n",
       "  </thead>\n",
       "  <tbody>\n",
       "    <tr>\n",
       "      <th>0</th>\n",
       "      <td>Isabella</td>\n",
       "      <td>F</td>\n",
       "      <td>22925</td>\n",
       "    </tr>\n",
       "    <tr>\n",
       "      <th>1</th>\n",
       "      <td>Sophia</td>\n",
       "      <td>F</td>\n",
       "      <td>20648</td>\n",
       "    </tr>\n",
       "    <tr>\n",
       "      <th>2</th>\n",
       "      <td>Emma</td>\n",
       "      <td>F</td>\n",
       "      <td>17354</td>\n",
       "    </tr>\n",
       "    <tr>\n",
       "      <th>3</th>\n",
       "      <td>Olivia</td>\n",
       "      <td>F</td>\n",
       "      <td>17030</td>\n",
       "    </tr>\n",
       "    <tr>\n",
       "      <th>4</th>\n",
       "      <td>Ava</td>\n",
       "      <td>F</td>\n",
       "      <td>15436</td>\n",
       "    </tr>\n",
       "  </tbody>\n",
       "</table>\n",
       "</div>"
      ],
      "text/plain": [
       "       Name Sex  Babies\n",
       "0  Isabella   F   22925\n",
       "1    Sophia   F   20648\n",
       "2      Emma   F   17354\n",
       "3    Olivia   F   17030\n",
       "4       Ava   F   15436"
      ]
     },
     "execution_count": 23,
     "metadata": {},
     "output_type": "execute_result"
    }
   ],
   "source": [
    "df.head()"
   ]
  },
  {
   "cell_type": "code",
   "execution_count": 24,
   "id": "c12c390e",
   "metadata": {},
   "outputs": [
    {
     "name": "stdout",
     "output_type": "stream",
     "text": [
      "<class 'pandas.core.frame.DataFrame'>\n",
      "RangeIndex: 34089 entries, 0 to 34088\n",
      "Data columns (total 3 columns):\n",
      " #   Column  Non-Null Count  Dtype \n",
      "---  ------  --------------  ----- \n",
      " 0   Name    34089 non-null  object\n",
      " 1   Sex     34089 non-null  object\n",
      " 2   Babies  34089 non-null  int64 \n",
      "dtypes: int64(1), object(2)\n",
      "memory usage: 799.1+ KB\n"
     ]
    }
   ],
   "source": [
    "df.info()"
   ]
  },
  {
   "cell_type": "code",
   "execution_count": 79,
   "id": "dc50c7fd",
   "metadata": {},
   "outputs": [
    {
     "name": "stdout",
     "output_type": "stream",
     "text": [
      "[]\n",
      "           Name Sex  Babies\n",
      "0          Emma   F   20949\n",
      "1        Olivia   F   19826\n",
      "2        Sophia   F   18633\n",
      "3      Isabella   F   17115\n",
      "4           Ava   F   15715\n",
      "...         ...  ..     ...\n",
      "33275    Zykeem   M       5\n",
      "33276    Zymeer   M       5\n",
      "33277   Zymiere   M       5\n",
      "33278     Zyran   M       5\n",
      "33279     Zyrin   M       5\n",
      "\n",
      "[33280 rows x 3 columns]\n",
      "           Name Sex  Babies\n",
      "0          Emma   F   20949\n",
      "1        Olivia   F   19826\n",
      "2        Sophia   F   18633\n",
      "3      Isabella   F   17115\n",
      "4           Ava   F   15715\n",
      "...         ...  ..     ...\n",
      "33151    Zykell   M       5\n",
      "33152    Zyking   M       5\n",
      "33153     Zykir   M       5\n",
      "33154     Zyrus   M       5\n",
      "33155      Zyus   M       5\n",
      "\n",
      "[66436 rows x 3 columns]\n"
     ]
    }
   ],
   "source": [
    "twoyears = []\n",
    "print(twoyears)\n",
    "\n",
    "twoyears.append(pd.read_csv('yob2014.txt'.format(year),names = ['Name', 'Sex', 'Babies']))\n",
    "print(pd.concat(twoyears))\n",
    "\n",
    "twoyears.append(pd.read_csv('yob2015.txt'.format(year),names = ['Name', 'Sex', 'Babies']))\n",
    "print(pd.concat(twoyears))\n",
    "\n"
   ]
  },
  {
   "cell_type": "code",
   "execution_count": 72,
   "id": "d15d845d",
   "metadata": {},
   "outputs": [],
   "source": [
    "all_years = []\n",
    "\n",
    "for year in range(1880, 2015+1):\n",
    "    all_years.append(pd.read_csv('yob{}.txt'.format(year),names = ['Name', 'Sex', 'Babies']))\n",
    "    all_years[-1]['Year'] = year\n",
    "\n",
    "all_names = pd.concat(all_years)\n",
    "all_names['S.no'] = np.arange(len(all_names))"
   ]
  },
  {
   "cell_type": "code",
   "execution_count": 87,
   "id": "1d7d2885",
   "metadata": {},
   "outputs": [
    {
     "data": {
      "text/html": [
       "<div>\n",
       "<style scoped>\n",
       "    .dataframe tbody tr th:only-of-type {\n",
       "        vertical-align: middle;\n",
       "    }\n",
       "\n",
       "    .dataframe tbody tr th {\n",
       "        vertical-align: top;\n",
       "    }\n",
       "\n",
       "    .dataframe thead th {\n",
       "        text-align: right;\n",
       "    }\n",
       "</style>\n",
       "<table border=\"1\" class=\"dataframe\">\n",
       "  <thead>\n",
       "    <tr style=\"text-align: right;\">\n",
       "      <th></th>\n",
       "      <th>Name</th>\n",
       "      <th>Sex</th>\n",
       "      <th>Babies</th>\n",
       "      <th>Year</th>\n",
       "      <th>S.no</th>\n",
       "    </tr>\n",
       "  </thead>\n",
       "  <tbody>\n",
       "    <tr>\n",
       "      <th>0</th>\n",
       "      <td>Mary</td>\n",
       "      <td>F</td>\n",
       "      <td>7065</td>\n",
       "      <td>1880</td>\n",
       "      <td>0</td>\n",
       "    </tr>\n",
       "    <tr>\n",
       "      <th>1</th>\n",
       "      <td>Anna</td>\n",
       "      <td>F</td>\n",
       "      <td>2604</td>\n",
       "      <td>1880</td>\n",
       "      <td>1</td>\n",
       "    </tr>\n",
       "    <tr>\n",
       "      <th>2</th>\n",
       "      <td>Emma</td>\n",
       "      <td>F</td>\n",
       "      <td>2003</td>\n",
       "      <td>1880</td>\n",
       "      <td>2</td>\n",
       "    </tr>\n",
       "    <tr>\n",
       "      <th>3</th>\n",
       "      <td>Elizabeth</td>\n",
       "      <td>F</td>\n",
       "      <td>1939</td>\n",
       "      <td>1880</td>\n",
       "      <td>3</td>\n",
       "    </tr>\n",
       "    <tr>\n",
       "      <th>4</th>\n",
       "      <td>Minnie</td>\n",
       "      <td>F</td>\n",
       "      <td>1746</td>\n",
       "      <td>1880</td>\n",
       "      <td>4</td>\n",
       "    </tr>\n",
       "  </tbody>\n",
       "</table>\n",
       "</div>"
      ],
      "text/plain": [
       "        Name Sex  Babies  Year  S.no\n",
       "0       Mary   F    7065  1880     0\n",
       "1       Anna   F    2604  1880     1\n",
       "2       Emma   F    2003  1880     2\n",
       "3  Elizabeth   F    1939  1880     3\n",
       "4     Minnie   F    1746  1880     4"
      ]
     },
     "execution_count": 87,
     "metadata": {},
     "output_type": "execute_result"
    }
   ],
   "source": [
    "all_names.head()"
   ]
  },
  {
   "cell_type": "code",
   "execution_count": 82,
   "id": "b368b823",
   "metadata": {},
   "outputs": [],
   "source": [
    "groupSY=all_names.groupby(['Sex','Year'])"
   ]
  },
  {
   "cell_type": "code",
   "execution_count": 84,
   "id": "6c945d58",
   "metadata": {},
   "outputs": [
    {
     "name": "stdout",
     "output_type": "stream",
     "text": [
      "<pandas.core.groupby.generic.DataFrameGroupBy object at 0x7eff96e1fee0>\n"
     ]
    }
   ],
   "source": [
    "print(groupSY)"
   ]
  },
  {
   "cell_type": "code",
   "execution_count": 85,
   "id": "1fb4a7b2",
   "metadata": {},
   "outputs": [
    {
     "data": {
      "text/plain": [
       "Sex  Year\n",
       "F    1880      942\n",
       "     1881      938\n",
       "     1882     1028\n",
       "     1883     1054\n",
       "     1884     1172\n",
       "             ...  \n",
       "M    2011    14347\n",
       "     2012    14244\n",
       "     2013    14054\n",
       "     2014    14063\n",
       "     2015    14048\n",
       "Length: 272, dtype: int64"
      ]
     },
     "execution_count": 85,
     "metadata": {},
     "output_type": "execute_result"
    }
   ],
   "source": [
    "groupSY.size()"
   ]
  },
  {
   "cell_type": "code",
   "execution_count": 89,
   "id": "8cb6890b",
   "metadata": {},
   "outputs": [
    {
     "data": {
      "text/html": [
       "<div>\n",
       "<style scoped>\n",
       "    .dataframe tbody tr th:only-of-type {\n",
       "        vertical-align: middle;\n",
       "    }\n",
       "\n",
       "    .dataframe tbody tr th {\n",
       "        vertical-align: top;\n",
       "    }\n",
       "\n",
       "    .dataframe thead th {\n",
       "        text-align: right;\n",
       "    }\n",
       "</style>\n",
       "<table border=\"1\" class=\"dataframe\">\n",
       "  <thead>\n",
       "    <tr style=\"text-align: right;\">\n",
       "      <th>Year</th>\n",
       "      <th>1880</th>\n",
       "      <th>1881</th>\n",
       "      <th>1882</th>\n",
       "      <th>1883</th>\n",
       "      <th>1884</th>\n",
       "      <th>1885</th>\n",
       "      <th>1886</th>\n",
       "      <th>1887</th>\n",
       "      <th>1888</th>\n",
       "      <th>1889</th>\n",
       "      <th>...</th>\n",
       "      <th>2006</th>\n",
       "      <th>2007</th>\n",
       "      <th>2008</th>\n",
       "      <th>2009</th>\n",
       "      <th>2010</th>\n",
       "      <th>2011</th>\n",
       "      <th>2012</th>\n",
       "      <th>2013</th>\n",
       "      <th>2014</th>\n",
       "      <th>2015</th>\n",
       "    </tr>\n",
       "    <tr>\n",
       "      <th>Sex</th>\n",
       "      <th></th>\n",
       "      <th></th>\n",
       "      <th></th>\n",
       "      <th></th>\n",
       "      <th></th>\n",
       "      <th></th>\n",
       "      <th></th>\n",
       "      <th></th>\n",
       "      <th></th>\n",
       "      <th></th>\n",
       "      <th></th>\n",
       "      <th></th>\n",
       "      <th></th>\n",
       "      <th></th>\n",
       "      <th></th>\n",
       "      <th></th>\n",
       "      <th></th>\n",
       "      <th></th>\n",
       "      <th></th>\n",
       "      <th></th>\n",
       "      <th></th>\n",
       "    </tr>\n",
       "  </thead>\n",
       "  <tbody>\n",
       "    <tr>\n",
       "      <th>F</th>\n",
       "      <td>942</td>\n",
       "      <td>938</td>\n",
       "      <td>1028</td>\n",
       "      <td>1054</td>\n",
       "      <td>1172</td>\n",
       "      <td>1197</td>\n",
       "      <td>1282</td>\n",
       "      <td>1306</td>\n",
       "      <td>1474</td>\n",
       "      <td>1479</td>\n",
       "      <td>...</td>\n",
       "      <td>20056</td>\n",
       "      <td>20572</td>\n",
       "      <td>20470</td>\n",
       "      <td>20190</td>\n",
       "      <td>19823</td>\n",
       "      <td>19576</td>\n",
       "      <td>19519</td>\n",
       "      <td>19259</td>\n",
       "      <td>19217</td>\n",
       "      <td>19108</td>\n",
       "    </tr>\n",
       "    <tr>\n",
       "      <th>M</th>\n",
       "      <td>1058</td>\n",
       "      <td>996</td>\n",
       "      <td>1099</td>\n",
       "      <td>1030</td>\n",
       "      <td>1125</td>\n",
       "      <td>1097</td>\n",
       "      <td>1110</td>\n",
       "      <td>1067</td>\n",
       "      <td>1177</td>\n",
       "      <td>1111</td>\n",
       "      <td>...</td>\n",
       "      <td>14041</td>\n",
       "      <td>14393</td>\n",
       "      <td>14618</td>\n",
       "      <td>14532</td>\n",
       "      <td>14266</td>\n",
       "      <td>14347</td>\n",
       "      <td>14244</td>\n",
       "      <td>14054</td>\n",
       "      <td>14063</td>\n",
       "      <td>14048</td>\n",
       "    </tr>\n",
       "  </tbody>\n",
       "</table>\n",
       "<p>2 rows × 136 columns</p>\n",
       "</div>"
      ],
      "text/plain": [
       "Year  1880  1881  1882  1883  1884  1885  1886  1887  1888  1889  ...   2006  \\\n",
       "Sex                                                               ...          \n",
       "F      942   938  1028  1054  1172  1197  1282  1306  1474  1479  ...  20056   \n",
       "M     1058   996  1099  1030  1125  1097  1110  1067  1177  1111  ...  14041   \n",
       "\n",
       "Year   2007   2008   2009   2010   2011   2012   2013   2014   2015  \n",
       "Sex                                                                  \n",
       "F     20572  20470  20190  19823  19576  19519  19259  19217  19108  \n",
       "M     14393  14618  14532  14266  14347  14244  14054  14063  14048  \n",
       "\n",
       "[2 rows x 136 columns]"
      ]
     },
     "execution_count": 89,
     "metadata": {},
     "output_type": "execute_result"
    }
   ],
   "source": [
    "groupSY.size().unstack()"
   ]
  },
  {
   "cell_type": "code",
   "execution_count": null,
   "id": "6e0678a7",
   "metadata": {},
   "outputs": [],
   "source": []
  },
  {
   "cell_type": "code",
   "execution_count": null,
   "id": "65c1562f",
   "metadata": {},
   "outputs": [],
   "source": []
  },
  {
   "cell_type": "code",
   "execution_count": null,
   "id": "7d8cd87c",
   "metadata": {},
   "outputs": [],
   "source": []
  },
  {
   "cell_type": "code",
   "execution_count": null,
   "id": "595982a6",
   "metadata": {},
   "outputs": [],
   "source": []
  },
  {
   "cell_type": "code",
   "execution_count": null,
   "id": "10319925",
   "metadata": {},
   "outputs": [],
   "source": []
  },
  {
   "cell_type": "code",
   "execution_count": null,
   "id": "3a81f1c8",
   "metadata": {},
   "outputs": [],
   "source": []
  },
  {
   "cell_type": "code",
   "execution_count": null,
   "id": "e5f29ee2",
   "metadata": {},
   "outputs": [],
   "source": []
  },
  {
   "cell_type": "markdown",
   "id": "e6867bb8",
   "metadata": {},
   "source": [
    "Loading csv data into pandas DataFrame\n"
   ]
  }
 ],
 "metadata": {
  "kernelspec": {
   "display_name": "Python 3 (ipykernel)",
   "language": "python",
   "name": "python3"
  },
  "language_info": {
   "codemirror_mode": {
    "name": "ipython",
    "version": 3
   },
   "file_extension": ".py",
   "mimetype": "text/x-python",
   "name": "python",
   "nbconvert_exporter": "python",
   "pygments_lexer": "ipython3",
   "version": "3.8.5"
  }
 },
 "nbformat": 4,
 "nbformat_minor": 5
}
